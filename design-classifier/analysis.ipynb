{
 "cells": [
  {
   "cell_type": "code",
   "execution_count": 4,
   "metadata": {
    "collapsed": true,
    "pycharm": {
     "is_executing": false,
     "name": "#%%\n"
    }
   },
   "outputs": [],
   "source": [
    "import sys\n",
    "import os\n",
    "import csv\n",
    "import pandas\n",
    "import spacy\n",
    "import sklearn\n",
    "import sklearn.feature_extraction\n",
    "import sklearn.model_selection\n",
    "import sklearn.pipeline\n",
    "import sklearn.naive_bayes\n",
    "import sklearn.svm\n",
    "import sklearn.tree\n",
    "import matplotlib.pyplot as plt\n",
    "import numpy as np\n",
    "import scipy as sp\n",
    "\n",
    "# START WORKAROUND https://stackoverflow.com/questions/15063936/csv-error-field-larger-than-field-limit-131072\n",
    "maxInt = sys.maxsize\n",
    "while True:\n",
    "    # decrease the maxInt value by factor 10\n",
    "    # as long as the OverflowError occurs.\n",
    "\n",
    "    try:\n",
    "        csv.field_size_limit(maxInt)\n",
    "        break\n",
    "    except OverflowError:\n",
    "        maxInt = int(maxInt/10)\n",
    "# END WORKAROUND https://stackoverflow.com/questions/15063936/csv-error-field-larger-than-field-limit-131072\n",
    "\n",
    "TRAINING_DATASET_PATH = '../training-data/discussions-sample-1000-annotated.csv'\n",
    "DATASET_PATH = '../preprocess-dataset/output/reviews.csv'\n",
    "CLASSIFIED_DATASET_PATH = '../design-classifier/output/reviews-predicted.csv'\n",
    "\n",
    "\n",
    "def loadTrainingDataset():\n",
    "    return pandas.read_csv(TRAINING_DATASET_PATH)"
   ]
  },
  {
   "cell_type": "code",
   "execution_count": 11,
   "outputs": [
    {
     "name": "stdout",
     "text": [
      "<class 'pandas.core.frame.DataFrame'>\nRangeIndex: 1000 entries, 0 to 999\nData columns (total 14 columns):\nreviewRequestId           1000 non-null int64\nrepository                1000 non-null object\nreviewRequestSubmitter    1000 non-null object\nreviewId                  1000 non-null int64\ndiffCommentId             674 non-null float64\nreplyId                   1 non-null float64\nreplyDiffCommentId        0 non-null float64\ntype                      1000 non-null object\nusername                  1000 non-null object\ntimestamp                 1000 non-null object\ntext                      1000 non-null object\nisDesign                  1000 non-null bool\nconcept                   949 non-null object\nhadToLookAtCode           39 non-null object\ndtypes: bool(1), float64(3), int64(2), object(8)\nmemory usage: 102.7+ KB\n"
     ],
     "output_type": "stream"
    }
   ],
   "source": [
    "tdf = loadTrainingDataset()\n",
    "# tdf.head()\n",
    "tdf.info()\n",
    "# tdf['isDesign'].value_counts()\n",
    "# tdf.describe()"
   ],
   "metadata": {
    "collapsed": false,
    "pycharm": {
     "name": "#%%\n",
     "is_executing": false
    }
   }
  },
  {
   "cell_type": "code",
   "execution_count": 6,
   "outputs": [
    {
     "data": {
      "text/plain": "approval                         154\ndocumentation                    106\nbetterSolution                   105\nbot                               83\nformatting                        68\n                                ... \nacknowledgment;betterSolution      1\nbetterSolution;concurrency         1\ndocumentation;previousComment      1\nclarification;refactoring          1\ndocumentation;todo                 1\nName: concept, Length: 78, dtype: int64"
     },
     "metadata": {},
     "output_type": "execute_result",
     "execution_count": 6
    }
   ],
   "source": [
    "tdf['concept'].value_counts()\n"
   ],
   "metadata": {
    "collapsed": false,
    "pycharm": {
     "name": "#%% Concept analysis\n",
     "is_executing": false
    }
   }
  },
  {
   "cell_type": "code",
   "execution_count": 38,
   "outputs": [
    {
     "data": {
      "text/plain": "{'acknowledgment': 28,\n 'approval': 160,\n 'betterSolution': 135,\n 'bot': 83,\n 'bug': 63,\n 'changesetPartitioning': 2,\n 'clarification': 82,\n 'concurrency': 5,\n 'configuration': 6,\n 'deadCode': 13,\n 'dependencies': 5,\n 'documentation': 113,\n 'duplicateCode': 4,\n 'encapsulation': 7,\n 'exceptionHandling': 1,\n 'featureAddition': 3,\n 'formatting': 71,\n 'generalQuestion': 2,\n 'interfaceContract': 3,\n 'logMessage': 15,\n 'logPoint': 7,\n 'methodExtraction': 3,\n 'naming': 54,\n 'performance': 9,\n 'previousComment': 19,\n 'redundantCode': 19,\n 'refactoring': 28,\n 'rejection': 2,\n 'reviewProcess': 7,\n 'safety': 3,\n 'sequencing': 1,\n 'testDesign': 14,\n 'testRequirements': 19,\n 'todo': 10,\n 'ui': 5,\n 'unknown': 6,\n 'versionControl': 12,\n 'wrongDependency': 4}"
     },
     "metadata": {},
     "output_type": "execute_result",
     "execution_count": 38
    }
   ],
   "source": [
    "#concepts = np.unique(tdf[~pandas.isna(tdf['concept'])]['concept'].to_numpy())\n",
    "\n",
    "# Counts frequency of concepts (incl. logic to deal with cells with multiple concepts).\n",
    "conceptCounts = {}\n",
    "for rowConcepts in tdf[~pandas.isna(tdf['concept'])]['concept']:\n",
    "    rowConcepts = rowConcepts.replace(',', ';')\n",
    "    concepts = [rowConcepts] if ';' not in rowConcepts else rowConcepts.split(';')\n",
    "    for concept in concepts:\n",
    "        conceptCounts[concept] = conceptCounts.get(concept, 0) + 1\n",
    "conceptCounts\n"
   ],
   "metadata": {
    "collapsed": false,
    "pycharm": {
     "name": "#%% Count frequency of concepts\n",
     "is_executing": false
    }
   }
  },
  {
   "cell_type": "code",
   "execution_count": 7,
   "outputs": [
    {
     "data": {
      "text/plain": "False    636\nTrue     364\nName: isDesign, dtype: int64"
     },
     "metadata": {},
     "output_type": "execute_result",
     "execution_count": 7
    }
   ],
   "source": [
    "tdf['isDesign'].value_counts()"
   ],
   "metadata": {
    "collapsed": false,
    "pycharm": {
     "name": "#%%\n",
     "is_executing": false
    }
   }
  },
  {
   "cell_type": "code",
   "execution_count": 3,
   "outputs": [],
   "source": [
    "textCellLengths = [] \n",
    "with open(DATASET_PATH, 'r') as fin:\n",
    "    dcfin = csv.DictReader(x.replace('\\0', '') for x in fin)  # ignore NULL bytes, which crash the csv.reader\n",
    "    for row in dcfin:\n",
    "        textCellLengths.append(len(row['text']))"
   ],
   "metadata": {
    "collapsed": false,
    "pycharm": {
     "name": "#%% Compute size of text cells within the CSV.\n",
     "is_executing": false
    }
   }
  },
  {
   "cell_type": "code",
   "execution_count": 4,
   "outputs": [
    {
     "data": {
      "text/plain": "267843"
     },
     "metadata": {},
     "output_type": "execute_result",
     "execution_count": 4
    }
   ],
   "source": [
    "len(textCellLengths)"
   ],
   "metadata": {
    "collapsed": false,
    "pycharm": {
     "name": "#%%\n",
     "is_executing": false
    }
   }
  },
  {
   "cell_type": "code",
   "execution_count": 39,
   "outputs": [
    {
     "data": {
      "text/plain": "9780.121799999848"
     },
     "metadata": {},
     "output_type": "execute_result",
     "execution_count": 39
    }
   ],
   "source": [
    "np.percentile(textCellLengths, 99.37)"
   ],
   "metadata": {
    "collapsed": false,
    "pycharm": {
     "name": "#%%\n",
     "is_executing": false
    }
   }
  },
  {
   "cell_type": "code",
   "execution_count": 41,
   "outputs": [
    {
     "data": {
      "text/plain": "1505"
     },
     "metadata": {},
     "output_type": "execute_result",
     "execution_count": 41
    }
   ],
   "source": [
    "# np.percentile(textCellLengths, 99)\n",
    "biggest = np.asarray(textCellLengths)\n",
    "biggest = biggest[biggest > 32767] \n",
    "len(biggest)"
   ],
   "metadata": {
    "collapsed": false,
    "pycharm": {
     "name": "#%% Number of rows with text cell larger than 32767 characters.\n",
     "is_executing": false
    }
   }
  },
  {
   "cell_type": "code",
   "execution_count": null,
   "outputs": [],
   "source": [
    "plt.hist(textCellLengths, bins=10)\n"
   ],
   "metadata": {
    "collapsed": false,
    "pycharm": {
     "name": "#%%\n",
     "is_executing": false
    }
   }
  },
  {
   "cell_type": "code",
   "execution_count": 18,
   "outputs": [
    {
     "name": "stdout",
     "text": [
      "<class 'pandas.core.frame.DataFrame'>\nRangeIndex: 267843 entries, 0 to 267842\nData columns (total 12 columns):\nreviewRequestId           267843 non-null int64\nrepository                267843 non-null object\nreviewRequestSubmitter    267843 non-null object\nreviewId                  267843 non-null int64\ndiffCommentId             181526 non-null float64\nreplyId                   867 non-null float64\nreplyDiffCommentId        0 non-null float64\ntype                      267843 non-null object\nusername                  267843 non-null object\ntimestamp                 267843 non-null object\ntext                      267617 non-null object\nisDesign                  267843 non-null bool\ndtypes: bool(1), float64(3), int64(2), object(6)\nmemory usage: 22.7+ MB\n"
     ],
     "output_type": "stream"
    }
   ],
   "source": [
    "cdf = pandas.read_csv(CLASSIFIED_DATASET_PATH)\n",
    "cdf.info()\n",
    "\n"
   ],
   "metadata": {
    "collapsed": false,
    "pycharm": {
     "name": "#%% Load classified dataset\n",
     "is_executing": false
    }
   }
  },
  {
   "cell_type": "code",
   "execution_count": 12,
   "outputs": [
    {
     "data": {
      "text/plain": "array(['Airavata', 'Flume', 'S4', 'SIS', 'Thrift', 'accumulo', 'ambari',\n       'atlas', 'aurora', 'aurora-packaging', 'bigtop', 'bookkeeper',\n       'climate', 'cloudstack', 'cloudstack-cloudmonkey',\n       'cloudstack-docs', 'cotton', 'crunch', 'datafu', 'deltacloud',\n       'directory', 'drill', 'falcon', 'flume', 'geode', 'giraph',\n       'hadoop', 'hama', 'hawq', 'hbase', 'hcatalog', 'helix', 'hive',\n       'infrastructure-puppet-kitchen', 'kafka', 'kylin', 'lens',\n       'lucene-solr', 'mahout', 'mesos', 'mesos-incubating', 'metamodel',\n       'mrunit', 'netbeans', 'nutch', 'oodt', 'oozie', 'phoenix', 'pig',\n       'qpid', 'qpid-cpp', 'qpid-dispatch', 'qpid-proton', 'ranger',\n       'rave', 'samza', 'samza-hello-samza', 'sentry', 'shindig',\n       'slider', 'sqoop', 'streams', 'tajo', 'tez', 'tika', 'twill',\n       'wave', 'whirr', 'zetacomponents', 'zookeeper'], dtype=object)"
     },
     "metadata": {},
     "output_type": "execute_result",
     "execution_count": 12
    }
   ],
   "source": [
    "# repoNameMapper = {'bookkeeper-git': 'bookkeeper', 'cloudstack-git': 'cloudstack', \n",
    "#                   'deltacloud-git': 'deltacloud', 'drill-git': 'drill', \n",
    "#                   'falcon-git': 'falcon', 'flume-git': 'flume', 'giraph-git': 'giraph',\n",
    "#                   'hadoop.git': 'hadoop', 'hbase-git': 'hbase', 'hcatalog-git': 'hcatalog',\n",
    "#                   'helix-git': 'helix', 'hive-git': 'hive', 'mahout-git': 'mahout',\n",
    "#                   'oozie-git': 'oozie', 'pig-git': 'pig', 'qpid-proton-git': 'qpid-proton', \n",
    "#                   'sqoop-SQOOP-1367': 'sqoop', 'sqoop-sqoop2': 'sqoop', 'sqoop-trunk': 'sqoop',\n",
    "#                   'zookeeper-git': 'zookeeper'}\n",
    "# \n",
    "# for index, row in cdf.iterrows():\n",
    "#     if row['repository'] in repoNameMapper:\n",
    "#         # row['repository'] = repoNameMapper[row['repository']]\n",
    "#          cdf.at[index, 'repository'] = repoNameMapper[row['repository']]\n",
    "#     \n",
    "# \n",
    "# np.unique(cdf['repository'].to_numpy())"
   ],
   "metadata": {
    "collapsed": false,
    "pycharm": {
     "name": "#%% Normalize repository names\n",
     "is_executing": false
    }
   }
  },
  {
   "cell_type": "code",
   "execution_count": 16,
   "outputs": [
    {
     "data": {
      "text/plain": "False    158145\nTrue     109698\nName: isDesign, dtype: int64"
     },
     "metadata": {},
     "output_type": "execute_result",
     "execution_count": 16
    }
   ],
   "source": [
    "cdf['isDesign'].value_counts()"
   ],
   "metadata": {
    "collapsed": false,
    "pycharm": {
     "name": "#%%\n",
     "is_executing": false
    }
   }
  },
  {
   "cell_type": "code",
   "execution_count": 68,
   "outputs": [
    {
     "name": "stdout",
     "text": [
      "{'Airavata': 14, 'Flume': 63, 'S4': 10, 'SIS': 3, 'Thrift': 26, 'accumulo': 1097, 'ambari': 8770, 'atlas': 4171, 'aurora': 3821, 'aurora-packaging': 47, 'bigtop': 52, 'bookkeeper': 81, 'bookkeeper-git': 309, 'climate': 139, 'cloudstack-cloudmonkey': 2, 'cloudstack-git': 1833, 'cotton': 1, 'crunch': 17, 'datafu': 110, 'deltacloud-git': 8, 'directory': 1, 'drill-git': 1358, 'falcon-git': 1447, 'flume-git': 1260, 'geode': 1971, 'giraph': 157, 'giraph-git': 401, 'hadoop.git': 61, 'hama': 5, 'hbase-git': 14281, 'hcatalog': 517, 'hcatalog-git': 107, 'helix-git': 196, 'hive': 603, 'hive-git': 9348, 'kafka': 3164, 'kylin': 1, 'lens': 2829, 'lucene-solr': 42, 'mahout': 100, 'mahout-git': 95, 'mesos': 29703, 'mesos-incubating': 417, 'metamodel': 16, 'mrunit': 1, 'nutch': 21, 'oodt': 163, 'oozie': 1722, 'oozie-git': 2941, 'phoenix': 12, 'pig': 562, 'pig-git': 726, 'qpid': 1103, 'qpid-cpp': 18, 'qpid-dispatch': 28, 'qpid-proton-git': 208, 'ranger': 2694, 'rave': 188, 'samza': 1730, 'samza-hello-samza': 19, 'sentry': 4258, 'shindig': 816, 'slider': 6, 'sqoop-SQOOP-1367': 92, 'sqoop-sqoop2': 1316, 'sqoop-trunk': 944, 'streams': 5, 'tajo': 214, 'tez': 143, 'tika': 29, 'twill': 56, 'wave': 415, 'whirr': 2, 'zetacomponents': 1, 'zookeeper': 257, 'zookeeper-git': 354}\n{'Airavata': 25, 'Flume': 187, 'S4': 18, 'SIS': 5, 'Thrift': 42, 'accumulo': 1827, 'ambari': 28043, 'atlas': 7145, 'aurora': 14745, 'aurora-packaging': 181, 'bigtop': 90, 'bookkeeper': 124, 'bookkeeper-git': 525, 'climate': 250, 'cloudstack-cloudmonkey': 5, 'cloudstack-docs': 8, 'cloudstack-git': 6912, 'cotton': 2, 'crunch': 28, 'datafu': 233, 'deltacloud-git': 19, 'directory': 1, 'drill-git': 2407, 'falcon-git': 2805, 'flume-git': 2791, 'geode': 4680, 'giraph': 379, 'giraph-git': 840, 'hadoop.git': 97, 'hama': 11, 'hawq': 2, 'hbase-git': 26485, 'hcatalog': 834, 'hcatalog-git': 205, 'helix-git': 476, 'hive': 1087, 'hive-git': 17120, 'infrastructure-puppet-kitchen': 2, 'kafka': 5709, 'kylin': 3, 'lens': 4845, 'lucene-solr': 69, 'mahout': 170, 'mahout-git': 166, 'mesos': 91533, 'mesos-incubating': 1349, 'metamodel': 42, 'mrunit': 5, 'netbeans': 3, 'nutch': 46, 'oodt': 520, 'oozie': 3514, 'oozie-git': 5106, 'phoenix': 22, 'pig': 999, 'pig-git': 1362, 'qpid': 1908, 'qpid-cpp': 36, 'qpid-dispatch': 77, 'qpid-proton-git': 347, 'ranger': 5821, 'rave': 408, 'samza': 3548, 'samza-hello-samza': 70, 'sentry': 8001, 'shindig': 2088, 'slider': 12, 'sqoop-SQOOP-1367': 215, 'sqoop-sqoop2': 3136, 'sqoop-trunk': 2558, 'streams': 15, 'tajo': 574, 'tez': 221, 'tika': 85, 'twill': 109, 'wave': 1209, 'whirr': 4, 'zetacomponents': 1, 'zookeeper': 596, 'zookeeper-git': 705}\n"
     ],
     "output_type": "stream"
    },
    {
     "data": {
      "text/plain": "       Design Discussion %\ncount            27.000000\nmean              0.465486\nstd               0.108434\nmin               0.259139\n25%               0.379921\n50%               0.490040\n75%               0.554475\nmax               0.600438",
      "text/html": "<div>\n<style scoped>\n    .dataframe tbody tr th:only-of-type {\n        vertical-align: middle;\n    }\n\n    .dataframe tbody tr th {\n        vertical-align: top;\n    }\n\n    .dataframe thead th {\n        text-align: right;\n    }\n</style>\n<table border=\"1\" class=\"dataframe\">\n  <thead>\n    <tr style=\"text-align: right;\">\n      <th></th>\n      <th>Design Discussion %</th>\n    </tr>\n  </thead>\n  <tbody>\n    <tr>\n      <th>count</th>\n      <td>27.000000</td>\n    </tr>\n    <tr>\n      <th>mean</th>\n      <td>0.465486</td>\n    </tr>\n    <tr>\n      <th>std</th>\n      <td>0.108434</td>\n    </tr>\n    <tr>\n      <th>min</th>\n      <td>0.259139</td>\n    </tr>\n    <tr>\n      <th>25%</th>\n      <td>0.379921</td>\n    </tr>\n    <tr>\n      <th>50%</th>\n      <td>0.490040</td>\n    </tr>\n    <tr>\n      <th>75%</th>\n      <td>0.554475</td>\n    </tr>\n    <tr>\n      <th>max</th>\n      <td>0.600438</td>\n    </tr>\n  </tbody>\n</table>\n</div>"
     },
     "metadata": {},
     "output_type": "execute_result",
     "execution_count": 68
    }
   ],
   "source": [
    "# np.unique(cdf['repository'].to_numpy())\n",
    "\n",
    "# len(np.unique(cdf['repository'].to_numpy()))\n",
    "\n",
    "g = cdf.groupby(['repository', 'isDesign']).size()\n",
    "designTotal = {}\n",
    "discussionTotal = {}\n",
    "for i, v in g.iteritems():\n",
    "    repository = i[0]\n",
    "    isDesign = i[1]\n",
    "    if isDesign:\n",
    "        designTotal[repository] = designTotal.get(repository, 0) + v\n",
    "    discussionTotal[repository] = discussionTotal.get(repository, 0) + v\n",
    "print(designTotal)\n",
    "print(discussionTotal)\n",
    "designRatio = {}\n",
    "for repository in discussionTotal:\n",
    "    # Ignore repositories with very little discussions.\n",
    "    if discussionTotal[repository] > 1000:\n",
    "        designRatio[repository] = designTotal.get(repository, 0) / discussionTotal[repository] \n",
    "\n",
    "# for repository in designRatio:\n",
    "#     print(repository, '%.2f%%' % (designRatio[repository] * 100))\n",
    "\n",
    "\n",
    "# discussionTotalDf = pandas.DataFrame.from_dict(discussionTotal, orient='index', columns=['Design Discussions'])\n",
    "# discussionTotalDf.describe()\n",
    "\n",
    "designRatioDf = pandas.DataFrame.from_dict(designRatio, orient='index', columns=['Design Discussion %'])\n",
    "designRatioDf.describe()\n",
    "\n",
    "\n",
    "# repository - design - not design - total\n",
    "\n"
   ],
   "metadata": {
    "collapsed": false,
    "pycharm": {
     "name": "#%% Number of projects\n",
     "is_executing": false
    }
   }
  },
  {
   "cell_type": "code",
   "execution_count": 39,
   "outputs": [
    {
     "data": {
      "text/plain": "36452"
     },
     "metadata": {},
     "output_type": "execute_result",
     "execution_count": 39
    }
   ],
   "source": [
    "len(np.unique(cdf['reviewRequestId'].to_numpy()))\n",
    "\n"
   ],
   "metadata": {
    "collapsed": false,
    "pycharm": {
     "name": "#%% Number of review requests\n",
     "is_executing": false
    }
   }
  }
 ],
 "metadata": {
  "kernelspec": {
   "display_name": "Python 3",
   "language": "python",
   "name": "python3"
  },
  "language_info": {
   "codemirror_mode": {
    "name": "ipython",
    "version": 2
   },
   "file_extension": ".py",
   "mimetype": "text/x-python",
   "name": "python",
   "nbconvert_exporter": "python",
   "pygments_lexer": "ipython2",
   "version": "2.7.6"
  },
  "pycharm": {
   "stem_cell": {
    "cell_type": "raw",
    "source": [],
    "metadata": {
     "collapsed": false
    }
   }
  }
 },
 "nbformat": 4,
 "nbformat_minor": 0
}